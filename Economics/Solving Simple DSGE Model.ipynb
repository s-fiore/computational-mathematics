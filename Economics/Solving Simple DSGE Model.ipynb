{
 "cells": [
  {
   "cell_type": "markdown",
   "id": "02de79cc",
   "metadata": {},
   "source": [
    "$$ \\max \\mathbb{E}_0 \\sum_{i=1}^\\infty \\beta^t \\log C_t $$\n",
    "s.t.\n",
    "$$ Y_t = Z_t K_{t-1}^\\alpha $$\n",
    "$$ \\log Z_t = \\psi \\log Z_{t-1} + \\epsilon_{Z_t} $$ \n",
    "$$ C_t + K_t = Y_t +(1-\\delta)K_{t-1} $$ "
   ]
  },
  {
   "cell_type": "markdown",
   "id": "eec30ffb",
   "metadata": {},
   "source": [
    "### F.O.C. "
   ]
  },
  {
   "cell_type": "markdown",
   "id": "31d378ed",
   "metadata": {},
   "source": [
    "$$ \\mathcal{L} = \\mathbb{E}_t\\left[ \\beta^t \\left\\{\\log C_t + \\lambda_t(C_t + K_t - Z_tK_{t-1}^\\alpha - (1-\\delta)K_{t-1}) \\right\\} \\right] $$"
   ]
  },
  {
   "cell_type": "markdown",
   "id": "16fb1f2d",
   "metadata": {},
   "source": [
    "$$ \\frac{ \\partial \\mathcal{L}}{\\partial C_t} = \\mathbb{E}_t\\left[\\beta^t\\left(\\frac{1}{C_t} + \\lambda_t\\right)\\right] = 0  \\implies \\lambda_t = -\\frac{1}{C_t}$$\n",
    "$$ \\frac{\\partial \\mathcal{L}}{\\partial K_t} = \\mathbb{E}_t[\\beta^t\\{\\lambda_t \\}] + \\mathbb{E}_{t+1}\\left[\\beta^{t+1} \\left\\{\\lambda_{t+1}\\left(-\\alpha Z_{t+1}K_t^{\\alpha -1} - (1-\\delta)\\right) \\right\\}\\right] $$\n",
    "$$\\frac{\\partial \\mathcal{L}}{\\partial K_t} = \\lambda_t + \\mathbb{E}_t\\left[\\beta\\left\\{\\lambda_{t+1} \\left(-\\alpha Z_{t+1}K_t^{\\alpha -1} - (1-\\delta) \\right) \\right\\} \\right] \\implies \\frac{1}{C_t} = \\mathbb{E}_t\\left[\\beta \\left\\{\\frac{1}{C_{t+1}}\\left(\\alpha Z_{t+1}K_t^{\\alpha -1} + (1-\\delta) \\right) \\right\\}\\right] $$ "
   ]
  },
  {
   "cell_type": "markdown",
   "id": "3681604a",
   "metadata": {},
   "source": [
    "marginal product of capital"
   ]
  },
  {
   "cell_type": "markdown",
   "id": "56102bd8",
   "metadata": {},
   "source": [
    "$$ \\frac{\\partial Y_t}{ \\partial K_{t-1}} = \\alpha Z_t K_{t-1}^{\\alpha -1} = \\alpha \\frac{Z_t K_{t-1}^\\alpha}{K_{t-1}} = \\alpha \\frac{Y_t}{K_{t-1}}$$"
   ]
  },
  {
   "cell_type": "markdown",
   "id": "3d4aef62",
   "metadata": {},
   "source": [
    "after one period, capital must be depreciated"
   ]
  },
  {
   "cell_type": "markdown",
   "id": "df39fa3f",
   "metadata": {},
   "source": [
    "$$  R_t = \\alpha Z_t K_{t-1}^{\\alpha -1} + (1-\\delta) = \\alpha \\frac{Y_t}{K_{t-1}} + (1 - \\delta) $$"
   ]
  },
  {
   "cell_type": "markdown",
   "id": "c4425661",
   "metadata": {},
   "source": [
    "this implies $$R_{t+1} = \\alpha Z_{t+1}K_t^{\\alpha-1} + (1-\\delta)$$"
   ]
  },
  {
   "cell_type": "markdown",
   "id": "41c52814",
   "metadata": {},
   "source": [
    "### Equilibrium Conditions"
   ]
  },
  {
   "cell_type": "markdown",
   "id": "d25b57f8",
   "metadata": {},
   "source": [
    "$$\\frac{1}{C_t} = \\mathbb{E}_t\\left[\\beta \\left\\{\\frac{1}{C_{t+1}}\\left(\\alpha Z_{t+1}K_t^{\\alpha -1} + (1-\\delta) \\right) \\right\\}\\right]$$\n",
    "$$\\frac{1}{C_t} = \\mathbb{E}_t\\left[\\beta \\left\\{\\frac{1}{C_{t+1}} R_{t+1} \\right\\}\\right]$$\n",
    "$$ 1 = \\beta \\mathbb{E}_t\\left[\\frac{C_t}{C_{t+1}}R_{t+1} \\right] $$\n",
    "$$R_t = \\alpha Z_t K_{t-1}^{\\alpha -1} + (1-\\delta) = \\alpha \\frac{Y_t}{K_{t-1}} + (1 - \\delta)$$"
   ]
  },
  {
   "cell_type": "markdown",
   "id": "3a4bf144",
   "metadata": {},
   "source": [
    "### Steady-State"
   ]
  },
  {
   "cell_type": "markdown",
   "id": "2c5d7d5e",
   "metadata": {},
   "source": [
    "$$ \\bar{Z} = 1$$ \n",
    "$$ \\bar{Y} = \\bar{K}^\\alpha$$\n",
    "$$ \\bar{C} = \\bar{K}^\\alpha - \\bar{K}\\delta $$\n",
    "$$ \\frac{1}{\\beta} = (\\alpha\\bar{K}^{\\alpha -1} + (1-\\delta))$$ \n",
    "$$ \\frac{1}{\\beta} - (1-\\delta) = \\alpha \\bar{K}^{\\alpha -1} $$\n",
    "$$ \\frac{1/\\beta -1 + \\delta}{\\alpha} = \\bar{K}^{\\alpha -1} $$ \n",
    "$$ \\bar{K} = \\left(\\frac{1/\\beta - 1 + \\delta}{\\alpha}\\right)^{\\frac{1}{\\alpha -1}} $$ \n",
    "$$ \\bar{K} = \\left(\\frac{\\alpha}{1/\\beta - 1 + \\delta} \\right)^{\\frac{1}{1 - \\alpha}} $$\n",
    "$$ \\bar{R} = \\frac{1}{\\beta} $$ "
   ]
  },
  {
   "cell_type": "markdown",
   "id": "d0f335aa",
   "metadata": {},
   "source": [
    "### Log-linearize"
   ]
  },
  {
   "cell_type": "markdown",
   "id": "c4419096",
   "metadata": {},
   "source": [
    "Let\n",
    "$$ \\tilde{x}_t = \\ln(x_t) - \\ln(x)$$\n",
    "$$\\ln(x_t) = \\tilde{x}_t + \\ln(x) $$\n",
    "$$ x_t  = e^{\\tilde{x}_t + \\ln(x)}= xe^{\\tilde{x}_t} \\approx x(1 + \\tilde{x}_t)$$"
   ]
  },
  {
   "cell_type": "markdown",
   "id": "2c2df640",
   "metadata": {},
   "source": [
    "$$y_t = z_tk_{t-1}^\\alpha $$\n",
    "$$ y(1 + \\tilde{y}_t) = zk^{\\alpha}(1 + \\tilde{z}_t + \\alpha \\tilde{k}_{t-1})$$ \n",
    "$$ 1 + \\tilde{y}_t = 1 + \\tilde{z}_t + \\alpha \\tilde{k}_{t-1} $$ \n",
    "$$ \\tilde{y}_t = \\tilde{z}_t + \\alpha \\tilde{k}_{t-1}$$"
   ]
  },
  {
   "cell_type": "markdown",
   "id": "7dbe01ce",
   "metadata": {},
   "source": [
    "$$ \\log Z_t = \\psi \\log Z_{t-1} + \\epsilon_{Z_t} $$ \n",
    "$$ z_t = \\pi z_{t-1} + \\epsilon_{z_t} $$"
   ]
  },
  {
   "cell_type": "markdown",
   "id": "cd38289c",
   "metadata": {},
   "source": [
    "$$ C_t + K_t = Y_t +(1-\\delta)K_{t-1} $$ \n",
    "$$ k(1 + \\tilde{k}_t) = y(1+\\tilde{y}_t) - c(1 + \\tilde{c}_t) + (1-\\delta)k_{t-1}(1 + \\tilde{k}_{t-1}) $$\n",
    "$$ k + k\\tilde{k}_t = y + y\\tilde{y}_t - c - c\\tilde{c}_t + (1-\\delta)k_{t-1} + (1-\\delta)k_{t-1}\\tilde{k}_{t-1} $$"
   ]
  },
  {
   "cell_type": "markdown",
   "id": "a29cc8fe",
   "metadata": {},
   "source": [
    "steady state:\n",
    "$$ k = y  - c + (1-\\delta)k_{t-1}$$ "
   ]
  },
  {
   "cell_type": "markdown",
   "id": "862ba40e",
   "metadata": {},
   "source": [
    "$$ k + k\\tilde{k}_t = y - c + (1-\\delta)k_{t-1} + y\\tilde{y}_t  - c\\tilde{c}_t + (1-\\delta)k_{t-1}\\tilde{k}_{t-1}\\\\ \n",
    "k\\tilde{k}_t = y\\tilde{y}_t  - c\\tilde{c}_t + (1-\\delta)k_{t-1}\\tilde{k}_{t-1}\\\\\n",
    " \\tilde{k}_t = \\frac{y}{k}\\tilde{y}_t - \\frac{c}{k} \\tilde{c}_t +\\frac{(1-\\delta)k_{t-1}}{k}\\tilde{k}_{t-1} \\\\\n",
    " \\tilde{k}_t = \\frac{y}{k}\\tilde{y}_t - \\frac{c}{k} \\tilde{c}_t + (1-\\delta)\\tilde{k}_{t-1} $$"
   ]
  },
  {
   "cell_type": "markdown",
   "id": "ee3ce6df",
   "metadata": {},
   "source": [
    "$$ \\frac{1}{C_t} = \\beta \\mathbb{E}_t\\left[\\frac{1}{C_{t+1}}R_{t+1} \\right] $$\n",
    "$$ \\frac{1}{ce^{\\tilde{c}_t}} = \\beta \\mathbb{E}\\left[ \\frac{1}{ce^{\\tilde{c}_{t+1}}} r(1+ \\tilde{r}_{t+1}) \\right]$$\n",
    "$$ \\frac{1}{ce^{\\tilde{c}_t}} = \\beta \\mathbb{E}\\left[ \\frac{1}{ce^{\\tilde{c}_{t+1}}} \\frac{1}{\\beta}(1+ \\tilde{r}_{t+1}) \\right]$$\n",
    "$$ \\frac{1}{ce^{\\tilde{c}_t}} = \\mathbb{E}\\left[ \\frac{1}{ce^{\\tilde{c}_{t+1}}}(1+ \\tilde{r}_{t+1}) \\right]$$\n",
    "$$ \\frac{1}{c}e^{-\\tilde{c}_t} =  \\mathbb{E}\\left[ \\frac{1}{c}e^{-\\tilde{c}_{t+1}} (1+ \\tilde{r}_{t+1}) \\right]$$\n",
    "$$ (1-\\tilde{c}_t) =  \\mathbb{E}\\left[ (1-\\tilde{c}_{t+1})(1+ \\tilde{r}_{t+1}) \\right]$$\n",
    "$$ (1-\\tilde{c}_t) =  \\mathbb{E}\\left[ 1 + \\tilde{r}_{t+1} - \\tilde{c}_{t+1} \\right]$$\n",
    "$$ 1 - \\tilde{c}_t = \\mathbb{E}[1] + \\mathbb{E}[\\tilde{r}_{t+1} - \\tilde{c}_{t + 1}] $$ \n",
    "$$ \\tilde{c}_t = \\mathbb{E}[\\tilde{c}_{t+1} - \\tilde{r}_{t+1}] $$"
   ]
  },
  {
   "cell_type": "markdown",
   "id": "4a3c280b",
   "metadata": {},
   "source": [
    "$$R_t = \\alpha \\frac{Y_t}{K_{t-1}} + (1 - \\delta)$$\n",
    "$$re^{\\tilde{r}_t} = \\alpha\\frac{ye^{\\tilde{y}_t}}{ke^{\\tilde{k}_{t-1}}} + (1-\\delta) $$\n",
    "$$r(1+\\tilde{r}_t) = \\alpha \\frac{y(1+\\tilde{y}_t)}{k(1+\\tilde{k}_{t-1})} + (1-\\delta) $$\n",
    "$$ r(1+\\tilde{r}_t) = \\alpha \\frac{y}{k} \\frac{1+\\tilde{y}_t}{1+\\tilde{k}_{t-1}} + (1-\\delta)$$ \n",
    "$$ r(1+\\tilde{r}_t) = \\alpha \\frac{y}{k}(1 + \\tilde{y}_t - \\tilde{k}_{t-1}) + (1-\\delta) $$\n",
    "$$ r + r\\tilde{r}_t = \\alpha \\frac{y}{k} + (1-\\delta) + \\alpha\\frac{y}{k}(\\tilde{y}_t - \\tilde{k}_{t-1}) $$"
   ]
  },
  {
   "cell_type": "markdown",
   "id": "2eae7706",
   "metadata": {},
   "source": [
    "in steady state\n",
    "$$ r = \\alpha \\frac{y}{k}+(1-\\delta) $$"
   ]
  },
  {
   "cell_type": "markdown",
   "id": "ba00a374",
   "metadata": {},
   "source": [
    "$$ r \\tilde{r}_t = \\alpha \\frac{y}{k} (\\tilde{y}_t - \\tilde{k}_{t-1})$$\n",
    "\n",
    "$$ \\tilde{r}_t = \\alpha \\frac{y}{rk} (\\tilde{y}_t - \\tilde{k}_{t-1})$$"
   ]
  },
  {
   "cell_type": "markdown",
   "id": "7964400f",
   "metadata": {},
   "source": [
    "### Log-linearized equations"
   ]
  },
  {
   "cell_type": "markdown",
   "id": "2cb056f4",
   "metadata": {},
   "source": [
    "$$ \\tilde{y}_t = \\tilde{z}_t + \\alpha \\tilde{k}_{t-1}$$\n",
    "\n",
    "$$ z_t = \\psi z_{t-1} + \\epsilon_{z_t} $$\n",
    "\n",
    "$$ \\tilde{k}_t = \\frac{y}{k}\\tilde{y}_t - \\frac{c}{k} \\tilde{c}_t + (1-\\delta)\\tilde{k}_{t-1} $$\n",
    "\n",
    "$$ \\tilde{c}_t = \\mathbb{E}[\\tilde{c}_{t+1} - \\tilde{r}_{t+1}] $$\n",
    "\n",
    "$$ \\tilde{r}_t = \\alpha \\frac{y}{rk} (\\tilde{y}_t - \\tilde{k}_{t-1})$$"
   ]
  },
  {
   "cell_type": "markdown",
   "id": "03104c60",
   "metadata": {},
   "source": [
    "### DSGE Canonical Form"
   ]
  },
  {
   "cell_type": "markdown",
   "id": "45314725",
   "metadata": {},
   "source": [
    "$$ \\Gamma_0 x_t = \\Gamma_1 x_{t-1} + c + \\Psi z_t + \\Pi \\eta_t $$"
   ]
  },
  {
   "cell_type": "markdown",
   "id": "8c0acaba",
   "metadata": {},
   "source": [
    "where $x_t$ is a $n\\times1$ vector of endogenous variables, $z_t$ is a $k \\times 1$ vector of exogenous shocks and $\\Gamma_0, \\Gamma_1, \\Psi, \\Pi$  are $n\\times n$, $n \\times n$, $n \\times k$ and $n \\times r$ coefficent matrices, respectively. c is a $n \\times 1$ vector of constants and $\\eta_t$ is a $r \\times 1$ vector of expectational errors. These are the deviations of variables from last period's expected value, defined as $\\eta_t = x_t - \\mathbb{E}_{t-1}[x_{t}]$. They are assumed to satisfy $\\mathbb{E}_t[\\eta_{t+1}] = 0$"
   ]
  },
  {
   "cell_type": "markdown",
   "id": "b9eadafc",
   "metadata": {},
   "source": [
    "$$\\tilde{y}_t - \\tilde{z_t} - \\alpha \\tilde{k}_{t-1} = 0 $$\n",
    "$$ z_t - \\psi z_{t-1} - \\epsilon_{z_t} =0$$ \n",
    "$$\\tilde{k}_t - \\frac{y}{k}\\tilde{y}_t + \\frac{c}{k}\\tilde{c}_t -(1-\\delta)\\tilde{k}_{t-1}=0$$\n",
    "$$ \\tilde{c}_t - \\mathbb{E}[\\tilde{c}_{t+1}]  + \\mathbb{E}[\\tilde{r}_{t+1}] =0$$\n",
    "$$\\tilde{r}_t - \\alpha \\frac{y}{rk}(\\tilde{y}_t - \\tilde{k}_{t-1}) = 0 $$"
   ]
  },
  {
   "cell_type": "markdown",
   "id": "f99c67bb",
   "metadata": {},
   "source": [
    "Let, \n",
    "\n",
    "$$x_t = \\begin{pmatrix} y_t \\\\ k_t \\\\ z_t \\\\ c_t \\\\ r_t \\\\ \\mathbb{E}_t[c_{t+1}] \\\\ \\mathbb{E}_t[r_{t+1}] \\end{pmatrix}; \\quad \\Gamma_0 = \\begin{pmatrix}\n",
    "1 & 0 & -1 & 0 & 0 & 0 & 0 \\\\\n",
    "-\\frac{\\bar{Y}}{\\bar{K}} & 1 & 0 & \\frac{\\bar{C}}{\\bar{K}} & 0 & 0 & 0 \\\\\n",
    "0 & 0 & 1 & 0 & 0 & 0 & 0 \\\\\n",
    "0 & 0 & 0 & 1 & 0 & -1 & 1 \\\\\n",
    "-\\frac{\\alpha \\bar{Y}}{R \\bar{K}} & 0 & 0 & 0 & 1 & 0 & 0 \\\\\n",
    "0 & 0 & 0 & 1 & 0 & 0 & 0 \\\\\n",
    "0 & 0 & 0 & 0 & 1 & 0 & 0\n",
    "\\end{pmatrix}; \\quad \\Gamma_1 = \\begin{pmatrix}\n",
    "0 & \\alpha & 0 & 0 & 0 & 0 & 0 \\\\\n",
    "0 & 1-\\delta & 0 & 0 & 0 & 0 & 0 \\\\\n",
    "0 & 0 & \\psi & 0 & 0 & 0 & 0 \\\\\n",
    "0 & 0 & 0 & 0 & 0 & 0 & 0 \\\\\n",
    "0 & \\frac{\\alpha \\bar{Y}}{R \\bar{K}} & 0 & 0 & 0 & 0 & 0 \\\\\n",
    "0 & 0 & 0 & 0 & 0 & 1 & 0 \\\\\n",
    "0 & 0 & 0 & 0 & 0 & 0 & 1\n",
    "\\end{pmatrix}; \\quad \\Psi = \\begin{pmatrix}\n",
    "0 \\\\\n",
    "0 \\\\\n",
    "1 \\\\\n",
    "0 \\\\\n",
    "0 \\\\\n",
    "0 \\\\\n",
    "0\n",
    "\\end{pmatrix} \\quad \\Pi = \\begin{pmatrix} 0 & 0 \\\\ \n",
    "0 & 0 \\\\ \n",
    "0 & 0 \\\\ 0 & 0 \\\\\n",
    "0 & 0 \\\\ \n",
    "1 & 0 \\\\ \n",
    "0 & 1  \n",
    "\\end{pmatrix}$$"
   ]
  },
  {
   "cell_type": "code",
   "execution_count": 1,
   "id": "5149def2",
   "metadata": {},
   "outputs": [],
   "source": [
    "import numpy as np"
   ]
  },
  {
   "cell_type": "code",
   "execution_count": 2,
   "id": "84dd90ee",
   "metadata": {},
   "outputs": [],
   "source": [
    "alpha = 1/3\n",
    "beta = 0.97\n",
    "delta = 0.08\n",
    "psi = 0.95\n",
    "sigma_Z = 0.007\n",
    "\n",
    "def steady_state(alpha, beta, delta):\n",
    "    R = 1/beta\n",
    "    K = (alpha/(R - 1 + delta))**(1/(1 - alpha))\n",
    "    Y = K**alpha\n",
    "    C = Y - K*delta\n",
    "    return R, K, Y, C\n",
    "\n",
    "R, K, Y, C = steady_state(alpha, beta,delta)\n",
    "\n",
    "Γ_0 = np.array([[1, 0, -1, 0, 0, 0, 0],\n",
    "                [-Y/K, 1, 0, C/K, 0, 0 ,0],\n",
    "                [0, 0, 1, 0, 0, 0, 0],\n",
    "                [0, 0, 0, 1, 0, -1, 1],\n",
    "                [-((alpha*Y)/(R*K)), 0, 0, 0, 1, 0, 0],\n",
    "                [0, 0, 0, 1, 0, 0, 0],\n",
    "                [0, 0,0, 0, 1, 0, 0]])\n",
    "\n",
    "Γ_1 = np.array([[0, alpha, 0, 0, 0, 0, 0],\n",
    "                [0, (1-delta), 0, 0, 0, 0, 0],\n",
    "                [ 0, 0, psi, 0, 0 ,0 ,0],\n",
    "                [0, 0, 0, 0, 0, 0 ,0],\n",
    "                [0, (alpha*Y)/(R*K), 0, 0, 0, 0 ,0],\n",
    "                [0, 0, 0, 0 ,0 ,1, 0],\n",
    "                [0, 0, 0, 0, 0, 0, 1]])\n",
    "Ψ = np.zeros((7,1))\n",
    "Ψ[2] = 1\n",
    "\n",
    "Π = np.zeros((7,2))\n",
    "Π[5,0] = 1\n",
    "Π[6,1] = 1\n",
    "\n",
    "c = np.zeros((7,1))"
   ]
  },
  {
   "cell_type": "markdown",
   "id": "8ccbc10c",
   "metadata": {},
   "source": [
    "### Gensys"
   ]
  },
  {
   "cell_type": "code",
   "execution_count": 3,
   "id": "29bf1ae1",
   "metadata": {},
   "outputs": [],
   "source": [
    "from Gensys import gensys"
   ]
  },
  {
   "cell_type": "code",
   "execution_count": 4,
   "id": "f209d510",
   "metadata": {},
   "outputs": [],
   "source": [
    "G1, _, Phi, *_ = gensys(Γ_0, Γ_1, c, Ψ, Π)"
   ]
  },
  {
   "cell_type": "markdown",
   "id": "ed7ca743",
   "metadata": {},
   "source": [
    "$$s_t = \\begin{pmatrix} y_t \\\\ k_t \\\\ z_t \\\\ c_t \\\\ r_t \\\\ \\mathbb{E}_t[c_{t+1}] \\\\ \\mathbb{E}_t[r_{t+1}] \\end{pmatrix};$$"
   ]
  },
  {
   "cell_type": "markdown",
   "id": "088d28e3",
   "metadata": {},
   "source": [
    "### State Space"
   ]
  },
  {
   "cell_type": "markdown",
   "id": "f2778210",
   "metadata": {},
   "source": [
    "$$ s_t = G_1 s_{t-1} + \\Phi \\epsilon_t \\quad \\epsilon \\sim N(0, Q) \\quad \\textbf{(transition)} \\\\ \n",
    "   y_t = Z s_t  + u_t \\quad u_t \\sim N(0,E) \\quad \\textbf{(measurement)} $$"
   ]
  },
  {
   "cell_type": "markdown",
   "id": "656bd5df",
   "metadata": {},
   "source": [
    "$$ \\begin{bmatrix} y_t \\\\ c_t \\\\ r_t \\end{bmatrix}  = \\underbrace{\\begin{pmatrix}1 & 0 & 0 & 0 & 0 & 0 & 0 \\\\ \n",
    "                   0 & 0 & 0 & 1 & 0 & 0 & 0 \\\\ \n",
    "                   0 & 0 & 0 & 0 & 1 & 0 & 0 \\end{pmatrix}}_{Z} \\begin{pmatrix} y_t \\\\ k_t \\\\ z_t \\\\ c_t \\\\ r_t \\\\ \\mathbb{E}_t[c_{t+1}] \\\\ \\mathbb{E}_t[r_{t+1}] \\end{pmatrix} + \\begin{bmatrix} u_{y,t} \\\\ u_{c, t} \\\\ u_{r, t} \\end{bmatrix} \\quad u_t \\sim N\\left( \\begin{bmatrix}0\\\\0\\\\0 \\end{bmatrix}, \\begin{bmatrix}\\sigma_y^2 & 0 & 0 \\\\ 0 & \\sigma_c^2 & 0 \\\\ 0 & 0 & \\sigma_r^2 \\end{bmatrix} \\right)$$ "
   ]
  },
  {
   "cell_type": "code",
   "execution_count": 5,
   "id": "d03996be",
   "metadata": {},
   "outputs": [],
   "source": [
    "Z = np.zeros((3,7))\n",
    "Z[0,0]=1\n",
    "Z[1,3]=1\n",
    "Z[2,4]=1"
   ]
  },
  {
   "cell_type": "code",
   "execution_count": 6,
   "id": "13173366",
   "metadata": {},
   "outputs": [
    {
     "data": {
      "text/plain": [
       "array([[1., 0., 0., 0., 0., 0., 0.],\n",
       "       [0., 0., 0., 1., 0., 0., 0.],\n",
       "       [0., 0., 0., 0., 1., 0., 0.]])"
      ]
     },
     "execution_count": 6,
     "metadata": {},
     "output_type": "execute_result"
    }
   ],
   "source": [
    "Z"
   ]
  },
  {
   "cell_type": "markdown",
   "id": "d939e2ae",
   "metadata": {},
   "source": [
    "### Data"
   ]
  },
  {
   "cell_type": "code",
   "execution_count": 7,
   "id": "82a22b12",
   "metadata": {},
   "outputs": [
    {
     "name": "stderr",
     "output_type": "stream",
     "text": [
      "\n",
      "A module that was compiled using NumPy 1.x cannot be run in\n",
      "NumPy 2.2.6 as it may crash. To support both 1.x and 2.x\n",
      "versions of NumPy, modules must be compiled with NumPy 2.0.\n",
      "Some module may need to rebuild instead e.g. with 'pybind11>=2.12'.\n",
      "\n",
      "If you are a user of the module, the easiest solution will be to\n",
      "downgrade to 'numpy<2' or try to upgrade the affected module.\n",
      "We expect that some modules will need time to support NumPy 2.\n",
      "\n",
      "Traceback (most recent call last):  File \"<frozen runpy>\", line 198, in _run_module_as_main\n",
      "  File \"<frozen runpy>\", line 88, in _run_code\n",
      "  File \"/Users/stevenfiore/anaconda3/lib/python3.11/site-packages/ipykernel_launcher.py\", line 17, in <module>\n",
      "    app.launch_new_instance()\n",
      "  File \"/Users/stevenfiore/anaconda3/lib/python3.11/site-packages/traitlets/config/application.py\", line 1053, in launch_instance\n",
      "    app.start()\n",
      "  File \"/Users/stevenfiore/anaconda3/lib/python3.11/site-packages/ipykernel/kernelapp.py\", line 736, in start\n",
      "    self.io_loop.start()\n",
      "  File \"/Users/stevenfiore/anaconda3/lib/python3.11/site-packages/tornado/platform/asyncio.py\", line 195, in start\n",
      "    self.asyncio_loop.run_forever()\n",
      "  File \"/Users/stevenfiore/anaconda3/lib/python3.11/asyncio/base_events.py\", line 607, in run_forever\n",
      "    self._run_once()\n",
      "  File \"/Users/stevenfiore/anaconda3/lib/python3.11/asyncio/base_events.py\", line 1922, in _run_once\n",
      "    handle._run()\n",
      "  File \"/Users/stevenfiore/anaconda3/lib/python3.11/asyncio/events.py\", line 80, in _run\n",
      "    self._context.run(self._callback, *self._args)\n",
      "  File \"/Users/stevenfiore/anaconda3/lib/python3.11/site-packages/ipykernel/kernelbase.py\", line 516, in dispatch_queue\n",
      "    await self.process_one()\n",
      "  File \"/Users/stevenfiore/anaconda3/lib/python3.11/site-packages/ipykernel/kernelbase.py\", line 505, in process_one\n",
      "    await dispatch(*args)\n",
      "  File \"/Users/stevenfiore/anaconda3/lib/python3.11/site-packages/ipykernel/kernelbase.py\", line 412, in dispatch_shell\n",
      "    await result\n",
      "  File \"/Users/stevenfiore/anaconda3/lib/python3.11/site-packages/ipykernel/kernelbase.py\", line 740, in execute_request\n",
      "    reply_content = await reply_content\n",
      "  File \"/Users/stevenfiore/anaconda3/lib/python3.11/site-packages/ipykernel/ipkernel.py\", line 422, in do_execute\n",
      "    res = shell.run_cell(\n",
      "  File \"/Users/stevenfiore/anaconda3/lib/python3.11/site-packages/ipykernel/zmqshell.py\", line 546, in run_cell\n",
      "    return super().run_cell(*args, **kwargs)\n",
      "  File \"/Users/stevenfiore/anaconda3/lib/python3.11/site-packages/IPython/core/interactiveshell.py\", line 3009, in run_cell\n",
      "    result = self._run_cell(\n",
      "  File \"/Users/stevenfiore/anaconda3/lib/python3.11/site-packages/IPython/core/interactiveshell.py\", line 3064, in _run_cell\n",
      "    result = runner(coro)\n",
      "  File \"/Users/stevenfiore/anaconda3/lib/python3.11/site-packages/IPython/core/async_helpers.py\", line 129, in _pseudo_sync_runner\n",
      "    coro.send(None)\n",
      "  File \"/Users/stevenfiore/anaconda3/lib/python3.11/site-packages/IPython/core/interactiveshell.py\", line 3269, in run_cell_async\n",
      "    has_raised = await self.run_ast_nodes(code_ast.body, cell_name,\n",
      "  File \"/Users/stevenfiore/anaconda3/lib/python3.11/site-packages/IPython/core/interactiveshell.py\", line 3448, in run_ast_nodes\n",
      "    if await self.run_code(code, result, async_=asy):\n",
      "  File \"/Users/stevenfiore/anaconda3/lib/python3.11/site-packages/IPython/core/interactiveshell.py\", line 3508, in run_code\n",
      "    exec(code_obj, self.user_global_ns, self.user_ns)\n",
      "  File \"/var/folders/m9/hllqwqb944vgcr87gbp44qp40000gn/T/ipykernel_41519/944248069.py\", line 1, in <module>\n",
      "    import pandas as pd\n",
      "  File \"/Users/stevenfiore/anaconda3/lib/python3.11/site-packages/pandas/__init__.py\", line 26, in <module>\n",
      "    from pandas.compat import (\n",
      "  File \"/Users/stevenfiore/anaconda3/lib/python3.11/site-packages/pandas/compat/__init__.py\", line 27, in <module>\n",
      "    from pandas.compat.pyarrow import (\n",
      "  File \"/Users/stevenfiore/anaconda3/lib/python3.11/site-packages/pandas/compat/pyarrow.py\", line 8, in <module>\n",
      "    import pyarrow as pa\n",
      "  File \"/Users/stevenfiore/anaconda3/lib/python3.11/site-packages/pyarrow/__init__.py\", line 65, in <module>\n",
      "    import pyarrow.lib as _lib\n"
     ]
    },
    {
     "ename": "AttributeError",
     "evalue": "_ARRAY_API not found",
     "output_type": "error",
     "traceback": [
      "\u001b[0;31m---------------------------------------------------------------------------\u001b[0m",
      "\u001b[0;31mAttributeError\u001b[0m                            Traceback (most recent call last)",
      "\u001b[0;31mAttributeError\u001b[0m: _ARRAY_API not found"
     ]
    },
    {
     "name": "stderr",
     "output_type": "stream",
     "text": [
      "\n",
      "A module that was compiled using NumPy 1.x cannot be run in\n",
      "NumPy 2.2.6 as it may crash. To support both 1.x and 2.x\n",
      "versions of NumPy, modules must be compiled with NumPy 2.0.\n",
      "Some module may need to rebuild instead e.g. with 'pybind11>=2.12'.\n",
      "\n",
      "If you are a user of the module, the easiest solution will be to\n",
      "downgrade to 'numpy<2' or try to upgrade the affected module.\n",
      "We expect that some modules will need time to support NumPy 2.\n",
      "\n",
      "Traceback (most recent call last):  File \"<frozen runpy>\", line 198, in _run_module_as_main\n",
      "  File \"<frozen runpy>\", line 88, in _run_code\n",
      "  File \"/Users/stevenfiore/anaconda3/lib/python3.11/site-packages/ipykernel_launcher.py\", line 17, in <module>\n",
      "    app.launch_new_instance()\n",
      "  File \"/Users/stevenfiore/anaconda3/lib/python3.11/site-packages/traitlets/config/application.py\", line 1053, in launch_instance\n",
      "    app.start()\n",
      "  File \"/Users/stevenfiore/anaconda3/lib/python3.11/site-packages/ipykernel/kernelapp.py\", line 736, in start\n",
      "    self.io_loop.start()\n",
      "  File \"/Users/stevenfiore/anaconda3/lib/python3.11/site-packages/tornado/platform/asyncio.py\", line 195, in start\n",
      "    self.asyncio_loop.run_forever()\n",
      "  File \"/Users/stevenfiore/anaconda3/lib/python3.11/asyncio/base_events.py\", line 607, in run_forever\n",
      "    self._run_once()\n",
      "  File \"/Users/stevenfiore/anaconda3/lib/python3.11/asyncio/base_events.py\", line 1922, in _run_once\n",
      "    handle._run()\n",
      "  File \"/Users/stevenfiore/anaconda3/lib/python3.11/asyncio/events.py\", line 80, in _run\n",
      "    self._context.run(self._callback, *self._args)\n",
      "  File \"/Users/stevenfiore/anaconda3/lib/python3.11/site-packages/ipykernel/kernelbase.py\", line 516, in dispatch_queue\n",
      "    await self.process_one()\n",
      "  File \"/Users/stevenfiore/anaconda3/lib/python3.11/site-packages/ipykernel/kernelbase.py\", line 505, in process_one\n",
      "    await dispatch(*args)\n",
      "  File \"/Users/stevenfiore/anaconda3/lib/python3.11/site-packages/ipykernel/kernelbase.py\", line 412, in dispatch_shell\n",
      "    await result\n",
      "  File \"/Users/stevenfiore/anaconda3/lib/python3.11/site-packages/ipykernel/kernelbase.py\", line 740, in execute_request\n",
      "    reply_content = await reply_content\n",
      "  File \"/Users/stevenfiore/anaconda3/lib/python3.11/site-packages/ipykernel/ipkernel.py\", line 422, in do_execute\n",
      "    res = shell.run_cell(\n",
      "  File \"/Users/stevenfiore/anaconda3/lib/python3.11/site-packages/ipykernel/zmqshell.py\", line 546, in run_cell\n",
      "    return super().run_cell(*args, **kwargs)\n",
      "  File \"/Users/stevenfiore/anaconda3/lib/python3.11/site-packages/IPython/core/interactiveshell.py\", line 3009, in run_cell\n",
      "    result = self._run_cell(\n",
      "  File \"/Users/stevenfiore/anaconda3/lib/python3.11/site-packages/IPython/core/interactiveshell.py\", line 3064, in _run_cell\n",
      "    result = runner(coro)\n",
      "  File \"/Users/stevenfiore/anaconda3/lib/python3.11/site-packages/IPython/core/async_helpers.py\", line 129, in _pseudo_sync_runner\n",
      "    coro.send(None)\n",
      "  File \"/Users/stevenfiore/anaconda3/lib/python3.11/site-packages/IPython/core/interactiveshell.py\", line 3269, in run_cell_async\n",
      "    has_raised = await self.run_ast_nodes(code_ast.body, cell_name,\n",
      "  File \"/Users/stevenfiore/anaconda3/lib/python3.11/site-packages/IPython/core/interactiveshell.py\", line 3448, in run_ast_nodes\n",
      "    if await self.run_code(code, result, async_=asy):\n",
      "  File \"/Users/stevenfiore/anaconda3/lib/python3.11/site-packages/IPython/core/interactiveshell.py\", line 3508, in run_code\n",
      "    exec(code_obj, self.user_global_ns, self.user_ns)\n",
      "  File \"/var/folders/m9/hllqwqb944vgcr87gbp44qp40000gn/T/ipykernel_41519/944248069.py\", line 1, in <module>\n",
      "    import pandas as pd\n",
      "  File \"/Users/stevenfiore/anaconda3/lib/python3.11/site-packages/pandas/__init__.py\", line 49, in <module>\n",
      "    from pandas.core.api import (\n",
      "  File \"/Users/stevenfiore/anaconda3/lib/python3.11/site-packages/pandas/core/api.py\", line 9, in <module>\n",
      "    from pandas.core.dtypes.dtypes import (\n",
      "  File \"/Users/stevenfiore/anaconda3/lib/python3.11/site-packages/pandas/core/dtypes/dtypes.py\", line 24, in <module>\n",
      "    from pandas._libs import (\n",
      "  File \"/Users/stevenfiore/anaconda3/lib/python3.11/site-packages/pyarrow/__init__.py\", line 65, in <module>\n",
      "    import pyarrow.lib as _lib\n"
     ]
    },
    {
     "ename": "AttributeError",
     "evalue": "_ARRAY_API not found",
     "output_type": "error",
     "traceback": [
      "\u001b[0;31m---------------------------------------------------------------------------\u001b[0m",
      "\u001b[0;31mAttributeError\u001b[0m                            Traceback (most recent call last)",
      "\u001b[0;31mAttributeError\u001b[0m: _ARRAY_API not found"
     ]
    },
    {
     "name": "stderr",
     "output_type": "stream",
     "text": [
      "\n",
      "A module that was compiled using NumPy 1.x cannot be run in\n",
      "NumPy 2.2.6 as it may crash. To support both 1.x and 2.x\n",
      "versions of NumPy, modules must be compiled with NumPy 2.0.\n",
      "Some module may need to rebuild instead e.g. with 'pybind11>=2.12'.\n",
      "\n",
      "If you are a user of the module, the easiest solution will be to\n",
      "downgrade to 'numpy<2' or try to upgrade the affected module.\n",
      "We expect that some modules will need time to support NumPy 2.\n",
      "\n",
      "Traceback (most recent call last):  File \"<frozen runpy>\", line 198, in _run_module_as_main\n",
      "  File \"<frozen runpy>\", line 88, in _run_code\n",
      "  File \"/Users/stevenfiore/anaconda3/lib/python3.11/site-packages/ipykernel_launcher.py\", line 17, in <module>\n",
      "    app.launch_new_instance()\n",
      "  File \"/Users/stevenfiore/anaconda3/lib/python3.11/site-packages/traitlets/config/application.py\", line 1053, in launch_instance\n",
      "    app.start()\n",
      "  File \"/Users/stevenfiore/anaconda3/lib/python3.11/site-packages/ipykernel/kernelapp.py\", line 736, in start\n",
      "    self.io_loop.start()\n",
      "  File \"/Users/stevenfiore/anaconda3/lib/python3.11/site-packages/tornado/platform/asyncio.py\", line 195, in start\n",
      "    self.asyncio_loop.run_forever()\n",
      "  File \"/Users/stevenfiore/anaconda3/lib/python3.11/asyncio/base_events.py\", line 607, in run_forever\n",
      "    self._run_once()\n",
      "  File \"/Users/stevenfiore/anaconda3/lib/python3.11/asyncio/base_events.py\", line 1922, in _run_once\n",
      "    handle._run()\n",
      "  File \"/Users/stevenfiore/anaconda3/lib/python3.11/asyncio/events.py\", line 80, in _run\n",
      "    self._context.run(self._callback, *self._args)\n",
      "  File \"/Users/stevenfiore/anaconda3/lib/python3.11/site-packages/ipykernel/kernelbase.py\", line 516, in dispatch_queue\n",
      "    await self.process_one()\n",
      "  File \"/Users/stevenfiore/anaconda3/lib/python3.11/site-packages/ipykernel/kernelbase.py\", line 505, in process_one\n",
      "    await dispatch(*args)\n",
      "  File \"/Users/stevenfiore/anaconda3/lib/python3.11/site-packages/ipykernel/kernelbase.py\", line 412, in dispatch_shell\n",
      "    await result\n",
      "  File \"/Users/stevenfiore/anaconda3/lib/python3.11/site-packages/ipykernel/kernelbase.py\", line 740, in execute_request\n",
      "    reply_content = await reply_content\n",
      "  File \"/Users/stevenfiore/anaconda3/lib/python3.11/site-packages/ipykernel/ipkernel.py\", line 422, in do_execute\n",
      "    res = shell.run_cell(\n",
      "  File \"/Users/stevenfiore/anaconda3/lib/python3.11/site-packages/ipykernel/zmqshell.py\", line 546, in run_cell\n",
      "    return super().run_cell(*args, **kwargs)\n",
      "  File \"/Users/stevenfiore/anaconda3/lib/python3.11/site-packages/IPython/core/interactiveshell.py\", line 3009, in run_cell\n",
      "    result = self._run_cell(\n",
      "  File \"/Users/stevenfiore/anaconda3/lib/python3.11/site-packages/IPython/core/interactiveshell.py\", line 3064, in _run_cell\n",
      "    result = runner(coro)\n",
      "  File \"/Users/stevenfiore/anaconda3/lib/python3.11/site-packages/IPython/core/async_helpers.py\", line 129, in _pseudo_sync_runner\n",
      "    coro.send(None)\n",
      "  File \"/Users/stevenfiore/anaconda3/lib/python3.11/site-packages/IPython/core/interactiveshell.py\", line 3269, in run_cell_async\n",
      "    has_raised = await self.run_ast_nodes(code_ast.body, cell_name,\n",
      "  File \"/Users/stevenfiore/anaconda3/lib/python3.11/site-packages/IPython/core/interactiveshell.py\", line 3448, in run_ast_nodes\n",
      "    if await self.run_code(code, result, async_=asy):\n",
      "  File \"/Users/stevenfiore/anaconda3/lib/python3.11/site-packages/IPython/core/interactiveshell.py\", line 3508, in run_code\n",
      "    exec(code_obj, self.user_global_ns, self.user_ns)\n",
      "  File \"/var/folders/m9/hllqwqb944vgcr87gbp44qp40000gn/T/ipykernel_41519/944248069.py\", line 1, in <module>\n",
      "    import pandas as pd\n",
      "  File \"/Users/stevenfiore/anaconda3/lib/python3.11/site-packages/pandas/__init__.py\", line 49, in <module>\n",
      "    from pandas.core.api import (\n",
      "  File \"/Users/stevenfiore/anaconda3/lib/python3.11/site-packages/pandas/core/api.py\", line 28, in <module>\n",
      "    from pandas.core.arrays import Categorical\n",
      "  File \"/Users/stevenfiore/anaconda3/lib/python3.11/site-packages/pandas/core/arrays/__init__.py\", line 1, in <module>\n",
      "    from pandas.core.arrays.arrow import ArrowExtensionArray\n",
      "  File \"/Users/stevenfiore/anaconda3/lib/python3.11/site-packages/pandas/core/arrays/arrow/__init__.py\", line 5, in <module>\n",
      "    from pandas.core.arrays.arrow.array import ArrowExtensionArray\n",
      "  File \"/Users/stevenfiore/anaconda3/lib/python3.11/site-packages/pandas/core/arrays/arrow/array.py\", line 52, in <module>\n",
      "    from pandas.core import (\n",
      "  File \"/Users/stevenfiore/anaconda3/lib/python3.11/site-packages/pandas/core/ops/__init__.py\", line 8, in <module>\n",
      "    from pandas.core.ops.array_ops import (\n",
      "  File \"/Users/stevenfiore/anaconda3/lib/python3.11/site-packages/pandas/core/ops/array_ops.py\", line 56, in <module>\n",
      "    from pandas.core.computation import expressions\n",
      "  File \"/Users/stevenfiore/anaconda3/lib/python3.11/site-packages/pandas/core/computation/expressions.py\", line 21, in <module>\n",
      "    from pandas.core.computation.check import NUMEXPR_INSTALLED\n",
      "  File \"/Users/stevenfiore/anaconda3/lib/python3.11/site-packages/pandas/core/computation/check.py\", line 5, in <module>\n",
      "    ne = import_optional_dependency(\"numexpr\", errors=\"warn\")\n",
      "  File \"/Users/stevenfiore/anaconda3/lib/python3.11/site-packages/pandas/compat/_optional.py\", line 135, in import_optional_dependency\n",
      "    module = importlib.import_module(name)\n",
      "  File \"/Users/stevenfiore/anaconda3/lib/python3.11/importlib/__init__.py\", line 126, in import_module\n",
      "    return _bootstrap._gcd_import(name[level:], package, level)\n",
      "  File \"/Users/stevenfiore/anaconda3/lib/python3.11/site-packages/numexpr/__init__.py\", line 24, in <module>\n",
      "    from numexpr.interpreter import MAX_THREADS, use_vml, __BLOCK_SIZE1__\n"
     ]
    },
    {
     "ename": "AttributeError",
     "evalue": "_ARRAY_API not found",
     "output_type": "error",
     "traceback": [
      "\u001b[0;31m---------------------------------------------------------------------------\u001b[0m",
      "\u001b[0;31mAttributeError\u001b[0m                            Traceback (most recent call last)",
      "\u001b[0;31mAttributeError\u001b[0m: _ARRAY_API not found"
     ]
    }
   ],
   "source": [
    "import pandas as pd\n",
    "from pandas_datareader import DataReader"
   ]
  },
  {
   "cell_type": "code",
   "execution_count": 8,
   "id": "ebc23246",
   "metadata": {},
   "outputs": [],
   "source": [
    "def get_fred_data(start, end):\n",
    "    \"\"\"\n",
    "    Downloads GDP growth, consumption growth, and real interest rate data from FRED.\n",
    "    \"\"\"\n",
    "    \n",
    "    # Fetch data from FRED\n",
    "    gdp = DataReader('GDPC1', 'fred',start=start, end=end).resample('QS').first()\n",
    "    cons = DataReader('PCECC96', 'fred', start=start, end=end).resample('QS').first()\n",
    "    fed_funds = DataReader(\"FEDFUNDS\", \"fred\", start=start, end=end).resample(\"QS\").first()\n",
    "    cpi = DataReader(\"CPIAUCSL\", \"fred\", start=start, end=end).resample(\"QS\").first()\n",
    "\n",
    "\n",
    "    inflation = 400 * (cpi / cpi.shift(1) -1)\n",
    "    real_rate = fed_funds[1:].values - (400 * (cpi / cpi.shift(1) - 1)).dropna()\n",
    "    R         = np.log1p(real_rate/100)\n",
    "    \n",
    "    r = pd.DataFrame(R - R.mean(), index = fed_funds.index[1:])\n",
    "    y = 400 * np.log(gdp).diff().dropna()\n",
    "    c = 400 * np.log(cons).diff().dropna()\n",
    "    \n",
    "    df = pd.concat([y, c, r],axis=1)\n",
    "    df.columns = [\"GDP Growth\", \"Consumption Growth\", \"Real Interest Rate\"]\n",
    "    \n",
    "    return df\n"
   ]
  },
  {
   "cell_type": "code",
   "execution_count": 9,
   "id": "dafca264",
   "metadata": {},
   "outputs": [],
   "source": [
    "df_macro = get_fred_data(start = '1984-01', end = '2023-12')"
   ]
  },
  {
   "cell_type": "code",
   "execution_count": 10,
   "id": "9be00613",
   "metadata": {},
   "outputs": [
    {
     "data": {
      "text/html": [
       "<div>\n",
       "<style scoped>\n",
       "    .dataframe tbody tr th:only-of-type {\n",
       "        vertical-align: middle;\n",
       "    }\n",
       "\n",
       "    .dataframe tbody tr th {\n",
       "        vertical-align: top;\n",
       "    }\n",
       "\n",
       "    .dataframe thead th {\n",
       "        text-align: right;\n",
       "    }\n",
       "</style>\n",
       "<table border=\"1\" class=\"dataframe\">\n",
       "  <thead>\n",
       "    <tr style=\"text-align: right;\">\n",
       "      <th></th>\n",
       "      <th>GDP Growth</th>\n",
       "      <th>Consumption Growth</th>\n",
       "      <th>Real Interest Rate</th>\n",
       "    </tr>\n",
       "    <tr>\n",
       "      <th>DATE</th>\n",
       "      <th></th>\n",
       "      <th></th>\n",
       "      <th></th>\n",
       "    </tr>\n",
       "  </thead>\n",
       "  <tbody>\n",
       "    <tr>\n",
       "      <th>1984-04-01</th>\n",
       "      <td>6.852022</td>\n",
       "      <td>5.564993</td>\n",
       "      <td>0.047499</td>\n",
       "    </tr>\n",
       "    <tr>\n",
       "      <th>1984-07-01</th>\n",
       "      <td>3.837572</td>\n",
       "      <td>2.955509</td>\n",
       "      <td>0.071302</td>\n",
       "    </tr>\n",
       "    <tr>\n",
       "      <th>1984-10-01</th>\n",
       "      <td>3.269692</td>\n",
       "      <td>5.148094</td>\n",
       "      <td>0.052777</td>\n",
       "    </tr>\n",
       "    <tr>\n",
       "      <th>1985-01-01</th>\n",
       "      <td>3.857259</td>\n",
       "      <td>6.738673</td>\n",
       "      <td>0.052013</td>\n",
       "    </tr>\n",
       "    <tr>\n",
       "      <th>1985-04-01</th>\n",
       "      <td>3.506480</td>\n",
       "      <td>3.655528</td>\n",
       "      <td>0.026072</td>\n",
       "    </tr>\n",
       "  </tbody>\n",
       "</table>\n",
       "</div>"
      ],
      "text/plain": [
       "            GDP Growth  Consumption Growth  Real Interest Rate\n",
       "DATE                                                          \n",
       "1984-04-01    6.852022            5.564993            0.047499\n",
       "1984-07-01    3.837572            2.955509            0.071302\n",
       "1984-10-01    3.269692            5.148094            0.052777\n",
       "1985-01-01    3.857259            6.738673            0.052013\n",
       "1985-04-01    3.506480            3.655528            0.026072"
      ]
     },
     "execution_count": 10,
     "metadata": {},
     "output_type": "execute_result"
    }
   ],
   "source": [
    "df_macro.head()"
   ]
  },
  {
   "cell_type": "markdown",
   "id": "a908c194",
   "metadata": {},
   "source": [
    "### Kalman Filter"
   ]
  },
  {
   "cell_type": "code",
   "execution_count": 11,
   "id": "afebc1b6",
   "metadata": {},
   "outputs": [],
   "source": [
    "\n",
    "from scipy.linalg import solve_discrete_lyapunov\n",
    "from filterpy.kalman import KalmanFilter\n",
    "\n",
    "class KalmanFilter:\n",
    "    def __init__(self, G1, Phi, Z, Q, E):\n",
    "        \"\"\"\n",
    "        Initialize the Kalman filter with system matrices.\n",
    "        \"\"\"\n",
    "        self.G1 = G1  # State transition matrix (n_states x n_states)\n",
    "        self.Phi = Phi  # Impact matrix (n_states x d)\n",
    "        self.Z = Z  # Observation matrix (n_obs x n_states)\n",
    "        self.Q = Q  # Process noise covariance (d x d)\n",
    "        self.E = E  # Measurement noise covariance (n_obs x n_obs)\n",
    "        self.n_states = G1.shape[0]\n",
    "        self.n_obs = Z.shape[0]\n",
    "        self.d = Phi.shape[1]  # Number of shocks\n",
    "\n",
    "        # Solve the Lyapunov equation for steady-state covariance\n",
    "        self.P0 = solve_discrete_lyapunov(G1, Phi @ Q @ Phi.T)\n",
    "\n",
    "    def filter(self, Y):\n",
    "        \"\"\"\n",
    "        Apply the Kalman filter to the dataset Y.\n",
    "        Y: Observed data matrix (shape: n_obs × T)\n",
    "        \"\"\"\n",
    "        T = Y.shape[1]\n",
    "        s_t = np.zeros((self.n_states, T))  # Filtered state estimates\n",
    "        P_t = np.zeros((self.n_states, self.n_states, T))  # Covariance matrix\n",
    "        s_pred = np.zeros((self.n_states, T))  # Predicted states\n",
    "        P_pred = np.zeros((self.n_states, self.n_states, T))  # Predicted covariance\n",
    "\n",
    "        # Initialization using the Lyapunov method\n",
    "        s_t[:, 0] = np.zeros(self.n_states)\n",
    "        P_t[:, :, 0] = self.P0\n",
    "\n",
    "        for t in range(1, T):\n",
    "            # Prediction step\n",
    "            s_pred[:, t] = self.G1 @ s_t[:, t-1]\n",
    "            P_pred[:, :, t] = self.G1 @ P_t[:, :, t-1] @ self.G1.T + self.Phi @ self.Q @ self.Phi.T\n",
    "\n",
    "            # Measurement update step\n",
    "            Y_pred = self.Z @ s_pred[:, t]\n",
    "            innovation = Y[:, t] - Y_pred\n",
    "            S = self.Z @ P_pred[:, :, t] @ self.Z.T + self.E  # Innovation covariance\n",
    "            K = P_pred[:, :, t] @ self.Z.T @ np.linalg.inv(S)  # Kalman gain\n",
    "\n",
    "            s_t[:, t] = s_pred[:, t] + K @ innovation\n",
    "            P_t[:, :, t] = P_pred[:, :, t] - K @ self.Z @ P_pred[:, :, t]\n",
    "\n",
    "        return s_t, P_t\n",
    "    \n",
    "    def forecast(self, s_last, steps=10, stochastic=True):\n",
    "        \"\"\"\n",
    "        Generate forecasts for the system.\n",
    "        \n",
    "        Parameters:\n",
    "        - s_last: Last filtered state estimate (n_states,)\n",
    "        - steps: Number of periods to forecast\n",
    "        - stochastic: If True, sample shocks; else assume zero shocks\n",
    "        \n",
    "        Returns:\n",
    "        - s_forecast: Forecasted state values (n_states, steps)\n",
    "        - y_forecast: Forecasted observed variables (n_obs, steps)\n",
    "        \"\"\"\n",
    "        s_forecast = np.zeros((self.n_states, steps))\n",
    "        y_forecast = np.zeros((self.n_obs, steps))\n",
    "\n",
    "        s_t = s_last.copy()\n",
    "\n",
    "        for t in range(steps):\n",
    "            if stochastic:\n",
    "                eps_t = np.random.multivariate_normal(mean=np.zeros(self.d), cov=self.Q)\n",
    "            else:\n",
    "                eps_t = np.zeros(self.d)\n",
    "\n",
    "            # Forecast the next state\n",
    "            s_t = self.G1 @ s_t + self.Phi @ eps_t\n",
    "            s_forecast[:, t] = s_t\n",
    "\n",
    "            # Forecast the observable variables\n",
    "            y_forecast[:, t] = self.Z @ s_t\n",
    "\n",
    "        return s_forecast, y_forecast\n",
    "\n",
    "# Define model parameters (example values)\n",
    "observed_data = df_macro.values\n",
    "n_states = 7  # Number of states\n",
    "n_obs = 3  # Number of observed variables\n",
    "d = 1  # Number of shocks\n",
    "\n",
    "Q = np.eye(d) * 0.1  # Process noise covariance (d x d)\n",
    "E = np.eye(n_obs) * 0.1  # Measurement noise covariance (n_obs x n_obs)\n",
    "\n",
    "# Run Kalman filter\n",
    "kf = KalmanFilter(G1, Phi, Z, Q, E)\n",
    "filtered_states, _ = kf.filter(observed_data.T)"
   ]
  },
  {
   "cell_type": "code",
   "execution_count": 12,
   "id": "70256896",
   "metadata": {},
   "outputs": [
    {
     "data": {
      "text/plain": [
       "Index(['GDP Growth', 'Consumption Growth', 'Real Interest Rate'], dtype='object')"
      ]
     },
     "execution_count": 12,
     "metadata": {},
     "output_type": "execute_result"
    }
   ],
   "source": [
    "df_macro.columns"
   ]
  },
  {
   "cell_type": "code",
   "execution_count": 13,
   "id": "ce861155",
   "metadata": {},
   "outputs": [],
   "source": [
    "import matplotlib.pyplot as plt"
   ]
  },
  {
   "cell_type": "code",
   "execution_count": 14,
   "id": "b56c4549",
   "metadata": {},
   "outputs": [
    {
     "data": {
      "text/plain": [
       "Text(0.5, 1.0, 'Kalman Filter on DSGE Model with Real Data')"
      ]
     },
     "execution_count": 14,
     "metadata": {},
     "output_type": "execute_result"
    },
    {
     "data": {
      "image/png": "[encoded data removed]",
      "text/plain": [
       "<Figure size 1000x600 with 1 Axes>"
      ]
     },
     "metadata": {},
     "output_type": "display_data"
    }
   ],
   "source": [
    "plt.figure(figsize=(10, 6))\n",
    "plt.plot(df_macro.index, df_macro[\"GDP Growth\"], label=\"Observed GDP Growth\")\n",
    "plt.plot(df_macro.index, filtered_states[0, :], label=\"Filtered GDP Growth\", linestyle=\"dashed\")\n",
    "plt.legend()\n",
    "plt.title(\"Kalman Filter on DSGE Model with Real Data\")"
   ]
  },
  {
   "cell_type": "code",
   "execution_count": 15,
   "id": "b65094b6",
   "metadata": {},
   "outputs": [
    {
     "data": {
      "text/plain": [
       "Text(0.5, 1.0, 'Kalman Filter on DSGE Model with Real Data')"
      ]
     },
     "execution_count": 15,
     "metadata": {},
     "output_type": "execute_result"
    },
    {
     "data": {
      "image/png": "[encoded data removed]",
      "text/plain": [
       "<Figure size 1000x600 with 1 Axes>"
      ]
     },
     "metadata": {},
     "output_type": "display_data"
    }
   ],
   "source": [
    "plt.figure(figsize=(10, 6))\n",
    "plt.plot(df_macro.index, df_macro[\"Consumption Growth\"], label=\"Observed Consumption Growth\")\n",
    "plt.plot(df_macro.index, filtered_states[3, :], label=\"Filtered Consumption Growth\", linestyle=\"dashed\")\n",
    "plt.legend()\n",
    "plt.title(\"Kalman Filter on DSGE Model with Real Data\")"
   ]
  },
  {
   "cell_type": "code",
   "execution_count": null,
   "id": "14975128",
   "metadata": {},
   "outputs": [],
   "source": []
  }
 ],
 "metadata": {
  "kernelspec": {
   "display_name": "base",
   "language": "python",
   "name": "python3"
  },
  "language_info": {
   "codemirror_mode": {
    "name": "ipython",
    "version": 3
   },
   "file_extension": ".py",
   "mimetype": "text/x-python",
   "name": "python",
   "nbconvert_exporter": "python",
   "pygments_lexer": "ipython3",
   "version": "3.11.6"
  }
 },
 "nbformat": 4,
 "nbformat_minor": 5
}
