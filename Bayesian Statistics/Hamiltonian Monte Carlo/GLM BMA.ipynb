{
 "cells": [
  {
   "cell_type": "code",
   "execution_count": 27,
   "id": "12fd886b",
   "metadata": {},
   "outputs": [],
   "source": [
    "import numpy as np\n",
    "import matplotlib.pyplot as plt\n",
    "import pymc as pm \n",
    "import arviz as az"
   ]
  },
  {
   "cell_type": "markdown",
   "id": "3210a476",
   "metadata": {},
   "source": [
    "# Dataset"
   ]
  },
  {
   "cell_type": "code",
   "execution_count": 55,
   "id": "3a8fd3a9",
   "metadata": {},
   "outputs": [],
   "source": [
    "np.random.seed(42)\n",
    "\n",
    "x = np.linspace(0, 1, 200)\n",
    "y = 1.0 + 2.0 * x + np.random.normal(0, 0.1, size=len(x))\n"
   ]
  },
  {
   "cell_type": "markdown",
   "id": "742e24f1",
   "metadata": {},
   "source": [
    "### True Model"
   ]
  },
  {
   "cell_type": "markdown",
   "id": "7bc2faea",
   "metadata": {},
   "source": [
    "$$ y = \\beta_0 + \\beta_1 x + \\varepsilon $$ "
   ]
  },
  {
   "cell_type": "markdown",
   "id": "31731f83",
   "metadata": {},
   "source": [
    "### Model 1:"
   ]
  },
  {
   "cell_type": "markdown",
   "id": "8360da8d",
   "metadata": {},
   "source": [
    "$$ y = \\beta_0 + \\beta_1 x + \\varepsilon $$ "
   ]
  },
  {
   "cell_type": "markdown",
   "id": "9be71a92",
   "metadata": {},
   "source": [
    "### Model 2: "
   ]
  },
  {
   "cell_type": "markdown",
   "id": "7750061a",
   "metadata": {},
   "source": [
    "$$y = \\beta_0 + \\beta_1 x + \\beta_2 x^2 + \\varepsilon$$"
   ]
  },
  {
   "cell_type": "code",
   "execution_count": 59,
   "id": "bbdcdad4",
   "metadata": {},
   "outputs": [
    {
     "name": "stderr",
     "output_type": "stream",
     "text": [
      "Compiling.. :   0%|          | 0/2000 [00:00<?, ?it/s]\n",
      "\u001b[A\n",
      "\u001b[A\n",
      "\n",
      "\u001b[A\u001b[A\n",
      "\n",
      "Running chain 0:   0%|          | 0/2000 [00:01<?, ?it/s]\n",
      "\u001b[A\n",
      "\n",
      "Running chain 0: 100%|██████████| 2000/2000 [00:01<00:00, 1836.93it/s]\n",
      "Running chain 2: 100%|██████████| 2000/2000 [00:01<00:00, 1837.93it/s]\n",
      "Running chain 1: 100%|██████████| 2000/2000 [00:01<00:00, 1833.86it/s]\n",
      "Running chain 3: 100%|██████████| 2000/2000 [00:01<00:00, 1834.14it/s]\n",
      "Sampling: [y_obs]\n"
     ]
    },
    {
     "data": {
      "text/html": [
       "\n",
       "<style>\n",
       "    /* Turns off some styling */\n",
       "    progress {\n",
       "        /* gets rid of default border in Firefox and Opera. */\n",
       "        border: none;\n",
       "        /* Needs to be in here for Safari polyfill so background images work as expected. */\n",
       "        background-size: auto;\n",
       "    }\n",
       "    progress:not([value]), progress:not([value])::-webkit-progress-bar {\n",
       "        background: repeating-linear-gradient(45deg, #7e7e7e, #7e7e7e 10px, #5c5c5c 10px, #5c5c5c 20px);\n",
       "    }\n",
       "    .progress-bar-interrupted, .progress-bar-interrupted::-webkit-progress-bar {\n",
       "        background: #F44336;\n",
       "    }\n",
       "</style>\n"
      ],
      "text/plain": [
       "<IPython.core.display.HTML object>"
      ]
     },
     "metadata": {},
     "output_type": "display_data"
    },
    {
     "data": {
      "text/html": [
       "\n",
       "    <div>\n",
       "      <progress value='4000' class='' max='4000' style='width:300px; height:20px; vertical-align: middle;'></progress>\n",
       "      100.00% [4000/4000 00:00&lt;00:00]\n",
       "    </div>\n",
       "    "
      ],
      "text/plain": [
       "<IPython.core.display.HTML object>"
      ]
     },
     "metadata": {},
     "output_type": "display_data"
    },
    {
     "name": "stderr",
     "output_type": "stream",
     "text": [
      "Compiling.. :   0%|          | 0/2000 [00:00<?, ?it/s]\n",
      "\u001b[A\n",
      "\u001b[A\n",
      "\n",
      "\u001b[A\u001b[A\n",
      "\n",
      "Running chain 0:   0%|          | 0/2000 [00:01<?, ?it/s]\n",
      "\u001b[A\n",
      "\n",
      "Running chain 0: 100%|██████████| 2000/2000 [00:01<00:00, 1504.72it/s]\n",
      "Running chain 2: 100%|██████████| 2000/2000 [00:01<00:00, 1503.36it/s]\n",
      "Running chain 1: 100%|██████████| 2000/2000 [00:01<00:00, 1498.45it/s]\n",
      "Running chain 3: 100%|██████████| 2000/2000 [00:01<00:00, 1500.54it/s]\n",
      "Sampling: [y_obs]\n"
     ]
    },
    {
     "data": {
      "text/html": [
       "\n",
       "<style>\n",
       "    /* Turns off some styling */\n",
       "    progress {\n",
       "        /* gets rid of default border in Firefox and Opera. */\n",
       "        border: none;\n",
       "        /* Needs to be in here for Safari polyfill so background images work as expected. */\n",
       "        background-size: auto;\n",
       "    }\n",
       "    progress:not([value]), progress:not([value])::-webkit-progress-bar {\n",
       "        background: repeating-linear-gradient(45deg, #7e7e7e, #7e7e7e 10px, #5c5c5c 10px, #5c5c5c 20px);\n",
       "    }\n",
       "    .progress-bar-interrupted, .progress-bar-interrupted::-webkit-progress-bar {\n",
       "        background: #F44336;\n",
       "    }\n",
       "</style>\n"
      ],
      "text/plain": [
       "<IPython.core.display.HTML object>"
      ]
     },
     "metadata": {},
     "output_type": "display_data"
    },
    {
     "data": {
      "text/html": [
       "\n",
       "    <div>\n",
       "      <progress value='4000' class='' max='4000' style='width:300px; height:20px; vertical-align: middle;'></progress>\n",
       "      100.00% [4000/4000 00:00&lt;00:00]\n",
       "    </div>\n",
       "    "
      ],
      "text/plain": [
       "<IPython.core.display.HTML object>"
      ]
     },
     "metadata": {},
     "output_type": "display_data"
    }
   ],
   "source": [
    "# Model 1: Linear\n",
    "with pm.Model() as linear_model:\n",
    "    sigma = pm.HalfNormal(\"sigma\", 1)\n",
    "    beta0 = pm.Normal(\"beta0\", 0, 10)\n",
    "    beta1 = pm.Normal(\"beta1\", 0, 10)\n",
    "    \n",
    "    mu = beta0 + beta1 * x\n",
    "    y_obs = pm.Normal(\"y_obs\", mu=mu, sigma=sigma, observed=y)\n",
    "    \n",
    "    trace_linear = pm.sample(nuts_sampler=\"numpyro\", draws=1000, tune=1000,\n",
    "                              return_inferencedata=True, idata_kwargs={\"log_likelihood\": True})\n",
    "    pm.sample_posterior_predictive(trace_linear, extend_inferencedata=True)\n",
    "\n",
    "\n",
    "# Model 2: Quadratic\n",
    "with pm.Model() as quadratic_model:\n",
    "    sigma = pm.HalfNormal(\"sigma\", 1)\n",
    "    beta0 = pm.Normal(\"beta0\", 0, 10)\n",
    "    beta1 = pm.Normal(\"beta1\", 0, 10)\n",
    "    beta2 = pm.Normal(\"beta2\", 0, 10)\n",
    "\n",
    "    mu = beta0 + beta1 * x + beta2 * x**2\n",
    "    y_obs = pm.Normal(\"y_obs\", mu=mu, sigma=sigma, observed=y)\n",
    "    \n",
    "    trace_quadratic = pm.sample(nuts_sampler=\"numpyro\", draws=1000, tune=1000, \n",
    "                                return_inferencedata=True, idata_kwargs={\"log_likelihood\": True})\n",
    "\n",
    "    pm.sample_posterior_predictive(trace_quadratic, extend_inferencedata=True)\n"
   ]
  },
  {
   "cell_type": "code",
   "execution_count": 60,
   "id": "b8048970",
   "metadata": {},
   "outputs": [
    {
     "data": {
      "text/html": [
       "<div>\n",
       "<style scoped>\n",
       "    .dataframe tbody tr th:only-of-type {\n",
       "        vertical-align: middle;\n",
       "    }\n",
       "\n",
       "    .dataframe tbody tr th {\n",
       "        vertical-align: top;\n",
       "    }\n",
       "\n",
       "    .dataframe thead th {\n",
       "        text-align: right;\n",
       "    }\n",
       "</style>\n",
       "<table border=\"1\" class=\"dataframe\">\n",
       "  <thead>\n",
       "    <tr style=\"text-align: right;\">\n",
       "      <th></th>\n",
       "      <th>rank</th>\n",
       "      <th>elpd_loo</th>\n",
       "      <th>p_loo</th>\n",
       "      <th>elpd_diff</th>\n",
       "      <th>weight</th>\n",
       "      <th>se</th>\n",
       "      <th>dse</th>\n",
       "      <th>warning</th>\n",
       "      <th>scale</th>\n",
       "    </tr>\n",
       "  </thead>\n",
       "  <tbody>\n",
       "    <tr>\n",
       "      <th>model_1</th>\n",
       "      <td>0</td>\n",
       "      <td>188.986858</td>\n",
       "      <td>2.940565</td>\n",
       "      <td>0.000000</td>\n",
       "      <td>1.0</td>\n",
       "      <td>9.850506</td>\n",
       "      <td>0.000000</td>\n",
       "      <td>False</td>\n",
       "      <td>log</td>\n",
       "    </tr>\n",
       "    <tr>\n",
       "      <th>model_2</th>\n",
       "      <td>1</td>\n",
       "      <td>188.022662</td>\n",
       "      <td>3.921136</td>\n",
       "      <td>0.964196</td>\n",
       "      <td>0.0</td>\n",
       "      <td>9.955134</td>\n",
       "      <td>0.352465</td>\n",
       "      <td>False</td>\n",
       "      <td>log</td>\n",
       "    </tr>\n",
       "  </tbody>\n",
       "</table>\n",
       "</div>"
      ],
      "text/plain": [
       "         rank    elpd_loo     p_loo  elpd_diff  weight        se       dse  \\\n",
       "model_1     0  188.986858  2.940565   0.000000     1.0  9.850506  0.000000   \n",
       "model_2     1  188.022662  3.921136   0.964196     0.0  9.955134  0.352465   \n",
       "\n",
       "         warning scale  \n",
       "model_1    False   log  \n",
       "model_2    False   log  "
      ]
     },
     "execution_count": 60,
     "metadata": {},
     "output_type": "execute_result"
    }
   ],
   "source": [
    "model_dict = dict(zip([\"model_1\", \"model_2\"], [trace_linear, trace_quadratic]))\n",
    "comp = az.compare(model_dict)\n",
    "comp"
   ]
  },
  {
   "cell_type": "code",
   "execution_count": 61,
   "id": "cc2fa3e2",
   "metadata": {},
   "outputs": [],
   "source": [
    "ppc_w = az.weight_predictions(\n",
    "    [model_dict[name] for name in comp.index],\n",
    "    weights=comp.weight,\n",
    ")"
   ]
  },
  {
   "cell_type": "code",
   "execution_count": 84,
   "id": "9739b8cf",
   "metadata": {},
   "outputs": [
    {
     "data": {
      "image/png": "[encoded data removed]",
      "text/plain": [
       "<Figure size 640x480 with 1 Axes>"
      ]
     },
     "metadata": {},
     "output_type": "display_data"
    }
   ],
   "source": [
    "az.plot_kde(\n",
    "    trace_linear.posterior_predictive[\"y_obs\"].values,\n",
    "    plot_kwargs={\"color\": \"C0\", \"linestyle\": \"--\"},\n",
    "    label=\"model_1\",\n",
    ")\n",
    "az.plot_kde(\n",
    "    trace_quadratic.posterior_predictive[\"y_obs\"].values,\n",
    "    plot_kwargs={\"color\": \"C0\", \"linestyle\": \"--\"},\n",
    "    label=\"model_2\",\n",
    ")\n",
    "az.plot_kde(\n",
    "    ppc_w.posterior_predictive[\"y_obs\"].values,\n",
    "    plot_kwargs={\"color\": \"C1\", \"linewidth\": 2},\n",
    "    label=\"average_model\",\n",
    ");"
   ]
  },
  {
   "cell_type": "code",
   "execution_count": null,
   "id": "80652c64",
   "metadata": {},
   "outputs": [],
   "source": []
  }
 ],
 "metadata": {
  "kernelspec": {
   "display_name": ".venv",
   "language": "python",
   "name": "python3"
  },
  "language_info": {
   "codemirror_mode": {
    "name": "ipython",
    "version": 3
   },
   "file_extension": ".py",
   "mimetype": "text/x-python",
   "name": "python",
   "nbconvert_exporter": "python",
   "pygments_lexer": "ipython3",
   "version": "3.9.13"
  }
 },
 "nbformat": 4,
 "nbformat_minor": 5
}
